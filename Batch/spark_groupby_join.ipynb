{
 "cells": [
  {
   "cell_type": "code",
   "execution_count": 1,
   "id": "53515986-9dfd-4ff2-a5da-d5e3c1512453",
   "metadata": {},
   "outputs": [],
   "source": [
    "import pyspark \n",
    "from pyspark.sql import SparkSession, functions as F  "
   ]
  },
  {
   "cell_type": "code",
   "execution_count": 2,
   "id": "f9d0ee49-06f8-4dae-ac49-f2f18974dff0",
   "metadata": {},
   "outputs": [],
   "source": [
    "spark = SparkSession.builder \\\n",
    "        .master(\"local[*]\") \\\n",
    "        .appName(\"groupby\") \\\n",
    "        .getOrCreate()"
   ]
  },
  {
   "cell_type": "code",
   "execution_count": 3,
   "id": "b2dae13f-316f-49a1-ab82-06bfc2d0bfb1",
   "metadata": {},
   "outputs": [
    {
     "data": {
      "text/html": [
       "\n",
       "            <div>\n",
       "                <p><b>SparkSession - in-memory</b></p>\n",
       "                \n",
       "        <div>\n",
       "            <p><b>SparkContext</b></p>\n",
       "\n",
       "            <p><a href=\"http://Aditya:4041\">Spark UI</a></p>\n",
       "\n",
       "            <dl>\n",
       "              <dt>Version</dt>\n",
       "                <dd><code>v3.3.2</code></dd>\n",
       "              <dt>Master</dt>\n",
       "                <dd><code>local[*]</code></dd>\n",
       "              <dt>AppName</dt>\n",
       "                <dd><code>groupby</code></dd>\n",
       "            </dl>\n",
       "        </div>\n",
       "        \n",
       "            </div>\n",
       "        "
      ],
      "text/plain": [
       "<pyspark.sql.session.SparkSession at 0x231d9bc3d50>"
      ]
     },
     "execution_count": 3,
     "metadata": {},
     "output_type": "execute_result"
    }
   ],
   "source": [
    "spark"
   ]
  },
  {
   "cell_type": "code",
   "execution_count": 18,
   "id": "418dc568-6275-4db4-a64a-aa510b9b0351",
   "metadata": {},
   "outputs": [],
   "source": [
    "df_green = spark.read.parquet('Dataset/pq/green/*/*')"
   ]
  },
  {
   "cell_type": "code",
   "execution_count": 19,
   "id": "3c742ed3-9343-4981-8629-40d0cdace208",
   "metadata": {},
   "outputs": [
    {
     "data": {
      "text/plain": [
       "['VendorID',\n",
       " 'lpep_pickup_datetime',\n",
       " 'lpep_dropoff_datetime',\n",
       " 'store_and_fwd_flag',\n",
       " 'RatecodeID',\n",
       " 'PULocationID',\n",
       " 'DOLocationID',\n",
       " 'passenger_count',\n",
       " 'trip_distance',\n",
       " 'fare_amount',\n",
       " 'extra',\n",
       " 'mta_tax',\n",
       " 'tip_amount',\n",
       " 'tolls_amount',\n",
       " 'ehail_fee',\n",
       " 'improvement_surcharge',\n",
       " 'total_amount',\n",
       " 'payment_type',\n",
       " 'trip_type',\n",
       " 'congestion_surcharge']"
      ]
     },
     "execution_count": 19,
     "metadata": {},
     "output_type": "execute_result"
    }
   ],
   "source": [
    "df_green.columns"
   ]
  },
  {
   "cell_type": "code",
   "execution_count": 20,
   "id": "c4832696-ebb9-491c-b497-fddc49b51342",
   "metadata": {},
   "outputs": [],
   "source": [
    "df_green.registerTempTable(\"green\")"
   ]
  },
  {
   "cell_type": "code",
   "execution_count": 23,
   "id": "9a195ff9-f43c-4b32-91dc-2046ba821b71",
   "metadata": {},
   "outputs": [],
   "source": [
    "green_revenue = spark.sql(\n",
    "    \"\"\"\n",
    "    SELECT PULocationID AS zone, \n",
    "            date_trunc('hour', lpep_pickup_datetime) AS hour,\n",
    "\n",
    "            SUM(total_amount) AS amount,\n",
    "            COUNT(1) AS number_records\n",
    "    FROM green\n",
    "    GROUP BY 1,2\n",
    "    ORDER BY 3 desc\n",
    "    \"\"\"\n",
    ")"
   ]
  },
  {
   "cell_type": "code",
   "execution_count": 24,
   "id": "17a06440-f85a-4933-ad0d-f8c11211b183",
   "metadata": {},
   "outputs": [
    {
     "name": "stderr",
     "output_type": "stream",
     "text": [
      "[Stage 20:==================================================>       (7 + 1) / 8]\r"
     ]
    },
    {
     "name": "stdout",
     "output_type": "stream",
     "text": [
      "+----+-------------------+------------------+--------------+\n",
      "|zone|               hour|            amount|number_records|\n",
      "+----+-------------------+------------------+--------------+\n",
      "|  75|2020-02-04 16:00:00| 2281.749999999999|           123|\n",
      "|  75|2020-01-08 16:00:00| 2245.769999999999|           115|\n",
      "|  75|2020-01-23 16:00:00|2225.6399999999994|           123|\n",
      "|  17|2021-05-28 16:00:00|           2135.55|             2|\n",
      "|  75|2020-02-28 17:00:00|2124.8499999999985|           118|\n",
      "|  75|2020-01-28 16:00:00| 2099.389999999998|           130|\n",
      "|  75|2020-01-09 17:00:00| 2098.539999999998|           122|\n",
      "|  75|2020-01-21 16:00:00| 2084.509999999999|           114|\n",
      "|  75|2020-02-06 16:00:00| 2066.149999999998|           123|\n",
      "|  75|2020-02-27 17:00:00|2018.7499999999984|           141|\n",
      "|  75|2020-01-13 17:00:00|2015.6699999999973|           127|\n",
      "|  75|2020-01-29 16:00:00|1999.0399999999975|           121|\n",
      "|  75|2020-02-27 18:00:00|1985.0299999999993|           129|\n",
      "|  75|2020-01-31 16:00:00|1977.5699999999981|           119|\n",
      "|  75|2020-02-27 16:00:00|1977.3499999999976|           121|\n",
      "|  75|2020-02-25 16:00:00|1946.5499999999977|           116|\n",
      "|  75|2020-02-12 16:00:00|1940.8999999999978|           112|\n",
      "|  75|2020-01-27 16:00:00|1938.4299999999982|           123|\n",
      "|  75|2020-02-06 17:00:00|1925.6099999999985|           105|\n",
      "|  75|2020-01-22 16:00:00|1924.3199999999983|           124|\n",
      "+----+-------------------+------------------+--------------+\n",
      "only showing top 20 rows\n",
      "\n"
     ]
    },
    {
     "name": "stderr",
     "output_type": "stream",
     "text": [
      "                                                                                \r"
     ]
    }
   ],
   "source": [
    "green_revenue.show()"
   ]
  },
  {
   "cell_type": "code",
   "execution_count": null,
   "id": "72f2409a-ea7c-459d-8014-704eadc141d9",
   "metadata": {},
   "outputs": [],
   "source": [
    "green_in.show()"
   ]
  },
  {
   "cell_type": "code",
   "execution_count": 25,
   "id": "49e3d1e8-72ab-4f71-a7c1-cfb4d58f1ba3",
   "metadata": {},
   "outputs": [],
   "source": [
    "df_yellow = spark.read.parquet('Dataset/pq/yellow/*/*')"
   ]
  },
  {
   "cell_type": "code",
   "execution_count": 26,
   "id": "c2a904e6-cf50-4802-a220-b42533b37e00",
   "metadata": {},
   "outputs": [
    {
     "data": {
      "text/plain": [
       "['VendorID',\n",
       " 'tpep_pickup_datetime',\n",
       " 'tpep_dropoff_datetime',\n",
       " 'passenger_count',\n",
       " 'trip_distance',\n",
       " 'RatecodeID',\n",
       " 'store_and_fwd_flag',\n",
       " 'PULocationID',\n",
       " 'DOLocationID',\n",
       " 'payment_type',\n",
       " 'fare_amount',\n",
       " 'extra',\n",
       " 'mta_tax',\n",
       " 'tip_amount',\n",
       " 'tolls_amount',\n",
       " 'improvement_surcharge',\n",
       " 'total_amount',\n",
       " 'congestion_surcharge',\n",
       " 'airport_fee']"
      ]
     },
     "execution_count": 26,
     "metadata": {},
     "output_type": "execute_result"
    }
   ],
   "source": [
    "df_yellow.columns"
   ]
  },
  {
   "cell_type": "code",
   "execution_count": 27,
   "id": "236f2aee-3290-461b-83d1-e2f7c736b444",
   "metadata": {},
   "outputs": [],
   "source": [
    "df_yellow.registerTempTable(\"yellow\")"
   ]
  },
  {
   "cell_type": "code",
   "execution_count": 29,
   "id": "4c0196ba-4af8-4628-a3f1-03c911b5e2e0",
   "metadata": {},
   "outputs": [],
   "source": [
    "yellow_revenue = spark.sql(\n",
    "    \"\"\"\n",
    "    SELECT PULocationID AS zone, \n",
    "            date_trunc('hour', tpep_pickup_datetime) AS hour,\n",
    "\n",
    "            SUM(total_amount) AS amount,\n",
    "            COUNT(1) AS number_records\n",
    "    FROM yellow\n",
    "    GROUP BY 1,2\n",
    "    ORDER BY 3 desc\n",
    "    \"\"\"\n",
    ")"
   ]
  },
  {
   "cell_type": "code",
   "execution_count": 30,
   "id": "c2f095bc-c763-403c-898f-df87a565f4eb",
   "metadata": {},
   "outputs": [
    {
     "name": "stderr",
     "output_type": "stream",
     "text": [
      "[Stage 24:===================================================>      (8 + 1) / 9]\r"
     ]
    },
    {
     "name": "stdout",
     "output_type": "stream",
     "text": [
      "+----+-------------------+------------------+--------------+\n",
      "|zone|               hour|            amount|number_records|\n",
      "+----+-------------------+------------------+--------------+\n",
      "| 193|2020-03-10 09:00:00|1000026.4500000001|             3|\n",
      "|  41|2020-10-07 10:00:00| 998602.2700000003|            21|\n",
      "| 166|2020-03-04 17:00:00| 673021.1200000012|           117|\n",
      "| 142|2020-05-04 20:00:00| 429733.2499999999|            12|\n",
      "| 170|2020-12-26 13:00:00| 399255.8399999999|            57|\n",
      "| 142|2020-08-14 17:00:00| 188859.9099999998|            79|\n",
      "|  41|2020-11-17 06:00:00|151590.91999999998|             8|\n",
      "| 132|2020-01-05 21:00:00|40236.339999999895|           725|\n",
      "| 132|2020-01-26 20:00:00|38895.609999999935|           708|\n",
      "| 132|2020-01-20 18:00:00| 38346.72999999991|           693|\n",
      "| 132|2020-01-12 22:00:00| 37748.56999999992|           711|\n",
      "| 132|2020-01-20 16:00:00| 37534.08999999995|           638|\n",
      "| 132|2020-01-20 22:00:00| 37197.59999999996|           652|\n",
      "| 132|2020-01-20 20:00:00| 37018.44999999997|           687|\n",
      "| 132|2020-01-05 20:00:00|36932.819999999934|           688|\n",
      "| 132|2020-01-20 21:00:00| 36152.19999999993|           647|\n",
      "| 132|2020-03-02 16:00:00| 36131.56999999978|           609|\n",
      "| 132|2020-01-27 16:00:00| 35936.08999999994|           588|\n",
      "| 132|2020-01-10 16:00:00|35720.949999999946|           584|\n",
      "| 132|2020-02-23 20:00:00| 35705.19999999994|           655|\n",
      "+----+-------------------+------------------+--------------+\n",
      "only showing top 20 rows\n",
      "\n"
     ]
    },
    {
     "name": "stderr",
     "output_type": "stream",
     "text": [
      "                                                                                \r"
     ]
    }
   ],
   "source": [
    "yellow_revenue.show()"
   ]
  },
  {
   "cell_type": "code",
   "execution_count": 31,
   "id": "213b6f80-0bbc-47e5-83a8-e39e610e1ad9",
   "metadata": {},
   "outputs": [],
   "source": [
    "yellow_investigate = spark.sql(\"\"\"\n",
    "    SELECT VendorID, tpep_pickup_datetime, tpep_dropoff_datetime, payment_type, fare_amount,\n",
    "     extra, mta_tax, tip_amount, tolls_amount, improvement_surcharge, total_amount\n",
    "\n",
    "     FROM yellow\n",
    "     WHERE date_trunc('hour', tpep_pickup_datetime) = \"2020-10-07 10:00:00\"\n",
    "     AND PULocationID = 41\n",
    "     \n",
    "\"\"\")"
   ]
  },
  {
   "cell_type": "code",
   "execution_count": 32,
   "id": "9e40421e-d8da-48bc-9cff-6591c507935f",
   "metadata": {},
   "outputs": [
    {
     "name": "stderr",
     "output_type": "stream",
     "text": [
      "[Stage 29:===========================================>              (3 + 1) / 4]\r"
     ]
    },
    {
     "name": "stdout",
     "output_type": "stream",
     "text": [
      "+--------+--------------------+---------------------+------------+-----------+-----+-------+----------+------------+---------------------+------------+\n",
      "|VendorID|tpep_pickup_datetime|tpep_dropoff_datetime|payment_type|fare_amount|extra|mta_tax|tip_amount|tolls_amount|improvement_surcharge|total_amount|\n",
      "+--------+--------------------+---------------------+------------+-----------+-----+-------+----------+------------+---------------------+------------+\n",
      "|       2| 2020-10-07 10:18:42|  2020-10-07 10:28:59|           1|        9.0|  0.0|    0.5|       2.0|         0.0|                  0.3|        14.3|\n",
      "|       2| 2020-10-07 10:58:03|  2020-10-07 11:01:10|           1|        4.5|  0.0|    0.5|      1.06|         0.0|                  0.3|        6.36|\n",
      "|       2| 2020-10-07 10:36:45|  2020-10-07 10:56:22|           1|       12.5|  0.0|    0.5|      2.66|         0.0|                  0.3|       15.96|\n",
      "|       1| 2020-10-07 10:14:10|  2020-10-07 10:20:43|           0|        6.5|  0.0|    0.5|       1.1|         0.0|                  0.3|         8.4|\n",
      "|       1| 2020-10-07 10:14:10|  2020-10-07 10:20:43|           1|        6.5|  0.0|    0.5|       1.1|         0.0|                  0.3|         8.4|\n",
      "|       1| 2020-10-07 10:35:56|  2020-10-07 10:40:14|           3|  998310.03|14.78|    0.5|       0.0|         0.0|                  0.3|   998325.61|\n",
      "|       2| 2020-10-07 10:15:03|  2020-10-07 10:46:06|           1|       22.5|  0.0|    0.5|      0.01|         0.0|                  0.3|       25.81|\n",
      "|       2| 2020-10-07 10:25:20|  2020-10-07 10:42:28|           1|       14.0|  0.0|    0.5|       2.6|         0.0|                  0.3|        19.9|\n",
      "|       2| 2020-10-07 10:08:36|  2020-10-07 10:29:11|           1|       17.0|  0.0|    0.5|      4.06|         0.0|                  0.3|       24.36|\n",
      "|       2| 2020-10-07 10:37:13|  2020-10-07 10:46:49|           1|        8.5|  0.0|    0.5|      1.86|         0.0|                  0.3|       11.16|\n",
      "|       2| 2020-10-07 10:42:07|  2020-10-07 10:53:24|           1|       10.0|  0.0|    0.5|      2.16|         0.0|                  0.3|       12.96|\n",
      "|       2| 2020-10-07 10:37:30|  2020-10-07 10:43:33|           1|        6.0|  0.0|    0.5|       2.0|         0.0|                  0.3|         8.8|\n",
      "|       2| 2020-10-07 10:27:46|  2020-10-07 10:29:05|           4|       -3.0|  0.0|   -0.5|       0.0|         0.0|                 -0.3|        -3.8|\n",
      "|       1| 2020-10-07 10:32:09|  2020-10-07 10:34:30|           2|        3.5|  0.0|    0.5|       0.0|         0.0|                  0.3|         4.3|\n",
      "|       2| 2020-10-07 10:06:19|  2020-10-07 10:25:29|           0|      23.57|  0.0|    0.5|      2.75|         0.0|                  0.3|       27.12|\n",
      "|       2| 2020-10-07 10:27:46|  2020-10-07 10:29:05|           2|        3.0|  0.0|    0.5|       0.0|         0.0|                  0.3|         3.8|\n",
      "|       2| 2020-10-07 10:44:49|  2020-10-07 11:02:40|           2|       14.0|  0.0|    0.5|       0.0|         0.0|                  0.3|        14.8|\n",
      "|       1| 2020-10-07 10:54:38|  2020-10-07 11:10:53|           1|       14.0|  2.5|    0.5|       4.3|         0.0|                  0.3|        21.6|\n",
      "|       2| 2020-10-07 10:25:48|  2020-10-07 10:55:13|           0|      24.78|  0.0|    0.5|      2.75|         0.0|                  0.3|       28.33|\n",
      "|       2| 2020-10-07 10:57:21|  2020-10-07 11:05:10|           2|        7.5|  0.0|    0.5|       0.0|         0.0|                  0.3|         8.3|\n",
      "+--------+--------------------+---------------------+------------+-----------+-----+-------+----------+------------+---------------------+------------+\n",
      "only showing top 20 rows\n",
      "\n"
     ]
    },
    {
     "name": "stderr",
     "output_type": "stream",
     "text": [
      "                                                                                \r"
     ]
    }
   ],
   "source": [
    "yellow_investigate.show()"
   ]
  },
  {
   "cell_type": "code",
   "execution_count": 35,
   "id": "162de6ca-95ea-49a3-9a09-2846ed5ca95b",
   "metadata": {},
   "outputs": [
    {
     "name": "stderr",
     "output_type": "stream",
     "text": [
      "                                                                                \r"
     ]
    },
    {
     "name": "stdout",
     "output_type": "stream",
     "text": [
      "25/04/10 08:39:53 WARN MemoryManager: Total allocation exceeds 95.00% (1,020,054,720 bytes) of heap memory\n",
      "Scaling row group sizes to 95.00% for 8 writers\n"
     ]
    },
    {
     "name": "stderr",
     "output_type": "stream",
     "text": [
      "                                                                                \r"
     ]
    }
   ],
   "source": [
    "yellow_revenue.write.parquet('Dataset/report/revenue/yellow', mode='overwrite')"
   ]
  },
  {
   "cell_type": "code",
   "execution_count": 36,
   "id": "b053c024-e227-4787-9d8a-e03b0a047564",
   "metadata": {},
   "outputs": [
    {
     "name": "stderr",
     "output_type": "stream",
     "text": [
      "                                                                                \r"
     ]
    },
    {
     "name": "stdout",
     "output_type": "stream",
     "text": [
      "25/04/10 08:40:47 WARN MemoryManager: Total allocation exceeds 95.00% (1,020,054,720 bytes) of heap memory\n",
      "Scaling row group sizes to 95.00% for 8 writers\n"
     ]
    }
   ],
   "source": [
    "green_revenue.write.parquet('Dataset/report/revenue/green', mode='overwrite')"
   ]
  },
  {
   "cell_type": "code",
   "execution_count": null,
   "id": "924d93a1-7305-41fb-b18e-25addd3c9ad7",
   "metadata": {},
   "outputs": [],
   "source": []
  }
 ],
 "metadata": {
  "kernelspec": {
   "display_name": "Python (env)",
   "language": "python",
   "name": "jn-env"
  },
  "language_info": {
   "codemirror_mode": {
    "name": "ipython",
    "version": 3
   },
   "file_extension": ".py",
   "mimetype": "text/x-python",
   "name": "python",
   "nbconvert_exporter": "python",
   "pygments_lexer": "ipython3",
   "version": "3.11.6"
  }
 },
 "nbformat": 4,
 "nbformat_minor": 5
}
